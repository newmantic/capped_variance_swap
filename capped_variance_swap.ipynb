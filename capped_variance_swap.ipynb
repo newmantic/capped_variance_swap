{
  "nbformat": 4,
  "nbformat_minor": 0,
  "metadata": {
    "colab": {
      "provenance": [],
      "authorship_tag": "ABX9TyO7k3JHGkRP2J0ZElmZLJr3",
      "include_colab_link": true
    },
    "kernelspec": {
      "name": "python3",
      "display_name": "Python 3"
    },
    "language_info": {
      "name": "python"
    }
  },
  "cells": [
    {
      "cell_type": "markdown",
      "metadata": {
        "id": "view-in-github",
        "colab_type": "text"
      },
      "source": [
        "<a href=\"https://colab.research.google.com/github/newmantic/capped_variance_swap/blob/main/capped_variance_swap.ipynb\" target=\"_parent\"><img src=\"https://colab.research.google.com/assets/colab-badge.svg\" alt=\"Open In Colab\"/></a>"
      ]
    },
    {
      "cell_type": "code",
      "execution_count": 1,
      "metadata": {
        "colab": {
          "base_uri": "https://localhost:8080/"
        },
        "id": "12oeSV3raWQ4",
        "outputId": "b587d31f-95cb-4c10-8a30-6d884dafef89"
      },
      "outputs": [
        {
          "output_type": "stream",
          "name": "stdout",
          "text": [
            "Expected Payoff: -0.0001\n"
          ]
        }
      ],
      "source": [
        "import numpy as np\n",
        "\n",
        "class CappedVarianceSwap:\n",
        "    def __init__(self, initial_price, strike_variance, variance_cap, maturity, risk_free_rate):\n",
        "        self.initial_price = initial_price\n",
        "        self.strike_variance = strike_variance\n",
        "        self.variance_cap = variance_cap\n",
        "        self.maturity = maturity\n",
        "        self.risk_free_rate = risk_free_rate\n",
        "\n",
        "    def simulate_price_path(self, n_steps, n_scenarios, volatility):\n",
        "        dt = self.maturity / n_steps\n",
        "        price_paths = np.zeros((n_steps + 1, n_scenarios))\n",
        "        price_paths[0] = self.initial_price\n",
        "\n",
        "        for t in range(1, n_steps + 1):\n",
        "            z = np.random.standard_normal(n_scenarios)\n",
        "            price_paths[t] = price_paths[t - 1] * np.exp((self.risk_free_rate - 0.5 * volatility ** 2) * dt + volatility * np.sqrt(dt) * z)\n",
        "\n",
        "        return price_paths\n",
        "\n",
        "    def calculate_realized_variance(self, price_path):\n",
        "        log_returns = np.diff(np.log(price_path), axis=0)\n",
        "        realized_variance = np.mean(log_returns ** 2) * 252  # Annualize variance assuming 252 trading days\n",
        "        return min(realized_variance, self.variance_cap)\n",
        "\n",
        "    def calculate_payoff(self, price_paths):\n",
        "        realized_variances = np.array([self.calculate_realized_variance(price_paths[:, i]) for i in range(price_paths.shape[1])])\n",
        "        return np.mean(realized_variances - self.strike_variance)\n",
        "\n",
        "    def run_simulation(self, n_steps=252, n_scenarios=10000, volatility=0.2):\n",
        "        price_paths = self.simulate_price_path(n_steps, n_scenarios, volatility)\n",
        "        payoff = self.calculate_payoff(price_paths)\n",
        "        return payoff\n",
        "\n",
        "# Example usage\n",
        "if __name__ == \"__main__\":\n",
        "    swap = CappedVarianceSwap(\n",
        "        initial_price=100,\n",
        "        strike_variance=0.04,  # 20% squared\n",
        "        variance_cap=0.09,      # 30% squared\n",
        "        maturity=1,\n",
        "        risk_free_rate=0.02\n",
        "    )\n",
        "\n",
        "    expected_payoff = swap.run_simulation()\n",
        "    print(f\"Expected Payoff: {expected_payoff:.4f}\")"
      ]
    }
  ]
}